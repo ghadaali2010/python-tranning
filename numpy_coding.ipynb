{
  "nbformat": 4,
  "nbformat_minor": 0,
  "metadata": {
    "colab": {
      "name": "numpy_coding.ipynb",
      "provenance": [],
      "authorship_tag": "ABX9TyNZXibSly7ftneDHPDMZyMO",
      "include_colab_link": true
    },
    "kernelspec": {
      "name": "python3",
      "display_name": "Python 3"
    },
    "language_info": {
      "name": "python"
    }
  },
  "cells": [
    {
      "cell_type": "markdown",
      "metadata": {
        "id": "view-in-github",
        "colab_type": "text"
      },
      "source": [
        "<a href=\"https://colab.research.google.com/github/ghadaali2010/python-tranning/blob/main/numpy_coding.ipynb\" target=\"_parent\"><img src=\"https://colab.research.google.com/assets/colab-badge.svg\" alt=\"Open In Colab\"/></a>"
      ]
    },
    {
      "cell_type": "code",
      "execution_count": null,
      "metadata": {
        "colab": {
          "base_uri": "https://localhost:8080/"
        },
        "id": "miRin-ePz7nS",
        "outputId": "882dccdf-8c1b-4fbc-d342-4c41c1e478df"
      },
      "outputs": [
        {
          "output_type": "stream",
          "name": "stdout",
          "text": [
            "<class 'list'>\n",
            "<class 'numpy.ndarray'>\n"
          ]
        }
      ],
      "source": [
        "import numpy\n",
        "my_list = [1,2,3]\n",
        "print(type(my_list))\n",
        "my_array=numpy.array(my_list)\n",
        "print(type(my_array))"
      ]
    },
    {
      "cell_type": "code",
      "source": [
        "import numpy as np\n",
        "my_list = [1,2,3]\n",
        "print(type(my_list))\n",
        "my_array=np.array(my_list)\n",
        "print(type(my_array))\n",
        "from numpy import array\n",
        "arry1=array(my_list)\n",
        "print(arry1.shape)\n",
        "print(arry1.dtype)"
      ],
      "metadata": {
        "colab": {
          "base_uri": "https://localhost:8080/"
        },
        "id": "KiDGcQSM90Zu",
        "outputId": "081a8608-0e98-48cf-ae29-c27e12c168dd"
      },
      "execution_count": null,
      "outputs": [
        {
          "output_type": "stream",
          "name": "stdout",
          "text": [
            "<class 'list'>\n",
            "<class 'numpy.ndarray'>\n",
            "(3,)\n",
            "int64\n"
          ]
        }
      ]
    },
    {
      "cell_type": "code",
      "source": [
        "from numpy import empty\n",
        "a=empty([3,3])\n",
        "print(a)"
      ],
      "metadata": {
        "colab": {
          "base_uri": "https://localhost:8080/"
        },
        "id": "bRm6p_WIFYhY",
        "outputId": "69fb55cd-b32c-461f-f280-cc175d959981"
      },
      "execution_count": null,
      "outputs": [
        {
          "output_type": "stream",
          "name": "stdout",
          "text": [
            "[[2.56526709e-316 1.77863633e-322 0.00000000e+000]\n",
            " [0.00000000e+000 2.01589600e-312 1.20098738e-071]\n",
            " [1.14195140e-071 4.22009449e-090 2.67956848e-032]]\n"
          ]
        }
      ]
    },
    {
      "cell_type": "code",
      "source": [
        "from numpy import zeros\n",
        "z=zeros([3,3])\n",
        "print(z)"
      ],
      "metadata": {
        "colab": {
          "base_uri": "https://localhost:8080/"
        },
        "outputId": "ed3eeea7-fcb8-4406-9660-2db17d72729d",
        "id": "oY1238wjIJya"
      },
      "execution_count": null,
      "outputs": [
        {
          "output_type": "stream",
          "name": "stdout",
          "text": [
            "[[0. 0. 0.]\n",
            " [0. 0. 0.]\n",
            " [0. 0. 0.]]\n"
          ]
        }
      ]
    },
    {
      "cell_type": "code",
      "source": [
        "from numpy import ones\n",
        "o=ones([3,3])\n",
        "print(o)"
      ],
      "metadata": {
        "colab": {
          "base_uri": "https://localhost:8080/"
        },
        "id": "rmA2EPoMJ_VP",
        "outputId": "34a2182d-895d-4cd6-f862-c33b0f2fc237"
      },
      "execution_count": null,
      "outputs": [
        {
          "output_type": "stream",
          "name": "stdout",
          "text": [
            "[[1. 1. 1.]\n",
            " [1. 1. 1.]\n",
            " [1. 1. 1.]]\n"
          ]
        }
      ]
    },
    {
      "cell_type": "code",
      "source": [
        "import numpy as np\n",
        "empty_arr=np.empty([3,1])\n",
        "zeros_arr=np.zeros([2,2])\n",
        "ones_arr=np.ones([2,1])\n",
        "print(empty_arr)\n",
        "print(zeros_arr)\n",
        "print(ones_arr)"
      ],
      "metadata": {
        "colab": {
          "base_uri": "https://localhost:8080/"
        },
        "outputId": "b0a85b5a-773b-4dcb-c6b1-df3a5545850f",
        "id": "qtm97-W4K5L4"
      },
      "execution_count": null,
      "outputs": [
        {
          "output_type": "stream",
          "name": "stdout",
          "text": [
            "[[4.9e-324]\n",
            " [9.9e-324]\n",
            " [1.5e-323]]\n",
            "[[0. 0.]\n",
            " [0. 0.]]\n",
            "[[1.]\n",
            " [1.]]\n"
          ]
        }
      ]
    },
    {
      "cell_type": "code",
      "source": [
        "import numpy as np\n",
        "a1=np.array([1,2,3])\n",
        "a2=np.array([3,6,7])\n",
        "a3=np.vstack((a1,a2))\n",
        "a4=np.hstack((a1,a2))\n",
        "print(a3)\n",
        "print(a3.shape)\n",
        "print(a4)\n",
        "print(a4.shape)"
      ],
      "metadata": {
        "colab": {
          "base_uri": "https://localhost:8080/"
        },
        "id": "NX4gCTl9n0KZ",
        "outputId": "128f8897-2b96-4767-b8a6-75993bf90ae1"
      },
      "execution_count": null,
      "outputs": [
        {
          "output_type": "stream",
          "name": "stdout",
          "text": [
            "[[1 2 3]\n",
            " [3 6 7]]\n",
            "(2, 3)\n",
            "[1 2 3 3 6 7]\n",
            "(6,)\n"
          ]
        }
      ]
    },
    {
      "cell_type": "code",
      "source": [
        "import numpy as np\n",
        "a1=np.array([1,2,3])\n",
        "a2=np.array([4,6,7])\n",
        "a3=np.vstack((a1,a2))\n",
        "a4=np.hstack((a1,a2))\n",
        "print(a3)\n",
        "print(a3[1,1])\n",
        "print(a4)\n",
        "print(a4[0])\n",
        "print(a4[-4])\n",
        "print(a4[0:3])"
      ],
      "metadata": {
        "colab": {
          "base_uri": "https://localhost:8080/"
        },
        "id": "pZZsxATu76uu",
        "outputId": "71d426b2-e89f-4179-93b1-83c0834b81ed"
      },
      "execution_count": null,
      "outputs": [
        {
          "output_type": "stream",
          "name": "stdout",
          "text": [
            "[[1 2 3]\n",
            " [4 6 7]]\n",
            "6\n",
            "[1 2 3 4 6 7]\n",
            "1\n",
            "3\n",
            "[1 2 3]\n"
          ]
        }
      ]
    },
    {
      "cell_type": "code",
      "source": [
        "import numpy as np\n",
        "data=np.array([[1,2,3],\n",
        "              [4,5,6],\n",
        "              [7,8,9]])\n",
        "train,test = data[:,:-1],data[:,-1]\n",
        "print(train)\n",
        "print(test)\n",
        "split =2\n",
        "trains,tests = data[:split,:],data[split:,:]\n",
        "print('the split with 2 is',trains)\n",
        "print('the split with 2 is',tests)"
      ],
      "metadata": {
        "colab": {
          "base_uri": "https://localhost:8080/"
        },
        "id": "ju_8Ba3MNVWw",
        "outputId": "07e12a18-5e09-4e31-a8d6-989c0dcac315"
      },
      "execution_count": null,
      "outputs": [
        {
          "output_type": "stream",
          "name": "stdout",
          "text": [
            "[[1 2]\n",
            " [4 5]\n",
            " [7 8]]\n",
            "[3 6 9]\n",
            "the split with 2 is [[1 2 3]\n",
            " [4 5 6]]\n",
            "the split with 2 is [[7 8 9]]\n"
          ]
        }
      ]
    },
    {
      "cell_type": "code",
      "source": [
        "## Write a function that takes data and percent of the train set. Splitsthe data into train and test sets based on the passed percent. Splits both train and test into input and output data.\n",
        "## Input: data, train_percent\n",
        "## Outputs: X_train, y_train, X_test, y_test\n",
        "def train_test_split (data,train_precetage):\n",
        "  midpoint = train_precentage*(len(data))/100\n",
        "  train,test=data[:int(midpoint),:], data[int(midpoint):,:]\n",
        "  x_train,y_train=train[:,:-1],train[:,-1]\n",
        "  x_test,y_test=test[:,:-1],test[:,-1]\n",
        "  return x_train,y_train,x_test,y_test\n"
      ],
      "metadata": {
        "id": "XnYV0U2OP6Zl"
      },
      "execution_count": null,
      "outputs": []
    },
    {
      "cell_type": "code",
      "source": [
        "import numpy as np\n",
        "my_array=np.array([[1,2,3],[4,5,6],[7,8,9],[10,11,12]])\n",
        "print('rows:',my_array.shape[0])\n",
        "print('columns:',my_array.shape[1])\n"
      ],
      "metadata": {
        "colab": {
          "base_uri": "https://localhost:8080/"
        },
        "id": "Un1CGf7PSEBX",
        "outputId": "3f481fbf-c55b-4a91-8ad1-ae8d7f7b5b86"
      },
      "execution_count": null,
      "outputs": [
        {
          "output_type": "stream",
          "name": "stdout",
          "text": [
            "rows: 4\n",
            "columns: 3\n"
          ]
        }
      ]
    },
    {
      "cell_type": "code",
      "source": [
        "import numpy as np\n",
        "data=np.array([11,12,13,4,15,7])\n",
        "print(data.shape)\n",
        "one_row=data.reshape((1,data.shape[0]))\n",
        "print('row data is:',one_row)\n",
        "print('row shape is :',one_row.shape)\n",
        "one_colunm=data.reshape((data.shape[0],1))\n",
        "print('colunm data is:',one_colunm)\n",
        "print('colunm shape is :',one_colunm.shape)"
      ],
      "metadata": {
        "colab": {
          "base_uri": "https://localhost:8080/"
        },
        "id": "PqR9Ro4KWDrS",
        "outputId": "b700e319-34cb-46ee-ae01-f569603c86f6"
      },
      "execution_count": null,
      "outputs": [
        {
          "output_type": "stream",
          "name": "stdout",
          "text": [
            "(6,)\n",
            "row data is: [[11 12 13  4 15  7]]\n",
            "row shape is : (1, 6)\n",
            "colunm data is: [[11]\n",
            " [12]\n",
            " [13]\n",
            " [ 4]\n",
            " [15]\n",
            " [ 7]]\n",
            "colunm shape is : (6, 1)\n"
          ]
        }
      ]
    },
    {
      "cell_type": "code",
      "source": [
        "import numpy as np\n",
        "data=np.array([[11,12,13],[4,15,7],[23,33,44]])\n",
        "print(data.shape)\n",
        "data=data.reshape((data.shape[0],data.shape[1],1))\n",
        "print(data.shape)\n",
        "print(data)"
      ],
      "metadata": {
        "colab": {
          "base_uri": "https://localhost:8080/"
        },
        "id": "-IosljjTZ794",
        "outputId": "bfd059da-2d26-43b1-c6a2-b159e4008049"
      },
      "execution_count": null,
      "outputs": [
        {
          "output_type": "stream",
          "name": "stdout",
          "text": [
            "(3, 3)\n",
            "(3, 3, 1)\n",
            "[[[11]\n",
            "  [12]\n",
            "  [13]]\n",
            "\n",
            " [[ 4]\n",
            "  [15]\n",
            "  [ 7]]\n",
            "\n",
            " [[23]\n",
            "  [33]\n",
            "  [44]]]\n"
          ]
        }
      ]
    },
    {
      "cell_type": "code",
      "source": [
        "import numpy as np\n",
        "a=np.array([1,2,3])\n",
        "b=np.array([[4,6,7],[4,5,6]])\n",
        "c_add=a+b\n",
        "c_sub=a-b\n",
        "c_sub2=b-a\n",
        "print(c_add)\n",
        "print(c_sub)\n",
        "print(c_sub2)"
      ],
      "metadata": {
        "colab": {
          "base_uri": "https://localhost:8080/"
        },
        "id": "oUgdjh5gbxGN",
        "outputId": "4012c11d-1ad0-448a-eb86-2b9e0809014b"
      },
      "execution_count": null,
      "outputs": [
        {
          "output_type": "stream",
          "name": "stdout",
          "text": [
            "[[ 5  8 10]\n",
            " [ 5  7  9]]\n",
            "[[-3 -4 -4]\n",
            " [-3 -3 -3]]\n",
            "[[3 4 4]\n",
            " [3 3 3]]\n"
          ]
        }
      ]
    },
    {
      "cell_type": "code",
      "source": [
        "import numpy as np\n",
        "a=np.array([1,2,3])\n",
        "b=np.array([[4,6,7],[4,5,6]])\n",
        "c_add=a+b\n",
        "print(c_add)"
      ],
      "metadata": {
        "colab": {
          "base_uri": "https://localhost:8080/"
        },
        "outputId": "0d6df19e-d513-47c8-df66-dcd8d65e6b67",
        "id": "GNeUQXE5d2Ko"
      },
      "execution_count": null,
      "outputs": [
        {
          "output_type": "stream",
          "name": "stdout",
          "text": [
            "[[ 5  8 10]\n",
            " [ 5  7  9]]\n"
          ]
        }
      ]
    },
    {
      "cell_type": "code",
      "source": [
        "import numpy as np\n",
        "a=np.array([[1,2,4],[3,7,7],[1,2,4]])\n",
        "b=np.array([[4,6,7],[4,5,9],[3,4,6]])\n",
        "c_add=a+b\n",
        "c_Mul=a*b\n",
        "c_dot=a.dot(b)\n",
        "print(c_add)\n",
        "print(c_Mul)\n",
        "print(c_dot)\n"
      ],
      "metadata": {
        "colab": {
          "base_uri": "https://localhost:8080/"
        },
        "id": "JK8P2IVFufT0",
        "outputId": "458092ab-08c8-465b-8bfc-ab7e82a48adc"
      },
      "execution_count": null,
      "outputs": [
        {
          "output_type": "stream",
          "name": "stdout",
          "text": [
            "[[ 5  8 11]\n",
            " [ 7 12 16]\n",
            " [ 4  6 10]]\n",
            "[[ 4 12 28]\n",
            " [12 35 63]\n",
            " [ 3  8 24]]\n",
            "[[ 24  32  49]\n",
            " [ 61  81 126]\n",
            " [ 24  32  49]]\n"
          ]
        }
      ]
    },
    {
      "cell_type": "code",
      "source": [
        "import numpy as np\n",
        "a=np.array([[1,2,4],[3,7,7],[1,2,4]])\n",
        "lower=np.tril(a) # make lower triangular matrix\n",
        "print(lower)\n",
        "upper=np.triu(a) # make upper triangular matrix\n",
        "print(upper)"
      ],
      "metadata": {
        "colab": {
          "base_uri": "https://localhost:8080/"
        },
        "id": "ZHtVO5C104co",
        "outputId": "3108ca49-e04d-492c-adf0-36a0bf109029"
      },
      "execution_count": null,
      "outputs": [
        {
          "output_type": "stream",
          "name": "stdout",
          "text": [
            "[[1 0 0]\n",
            " [3 7 0]\n",
            " [1 2 4]]\n",
            "[[1 2 4]\n",
            " [0 7 7]\n",
            " [0 0 4]]\n"
          ]
        }
      ]
    },
    {
      "cell_type": "code",
      "source": [
        "import numpy as np\n",
        "a=np.array([[1,2,4],[3,7,7],[1,2,4]])\n",
        "d=np.diag(a) # make diagonal matrix\n",
        "print(d)\n",
        "I=np.identity(4) # build identity  matrix\n",
        "print(I)"
      ],
      "metadata": {
        "colab": {
          "base_uri": "https://localhost:8080/"
        },
        "id": "0A7xShKS1sWW",
        "outputId": "fefd0e7d-47d8-442d-d5b5-4d9c4cf2eaa5"
      },
      "execution_count": null,
      "outputs": [
        {
          "output_type": "stream",
          "name": "stdout",
          "text": [
            "[1 7 4]\n",
            "[[1. 0. 0. 0.]\n",
            " [0. 1. 0. 0.]\n",
            " [0. 0. 1. 0.]\n",
            " [0. 0. 0. 1.]]\n"
          ]
        }
      ]
    },
    {
      "cell_type": "code",
      "source": [
        "#matrix operation transpose\n",
        "import numpy as np\n",
        "a=np.array([[1,2],[3,7],[1,2]]) \n",
        "print(a)\n",
        "A=a.T\n",
        "print(A)"
      ],
      "metadata": {
        "colab": {
          "base_uri": "https://localhost:8080/"
        },
        "id": "PQpQj-uP9dT0",
        "outputId": "8771140d-0fa4-46b0-c1a6-0be28d96eb66"
      },
      "execution_count": null,
      "outputs": [
        {
          "output_type": "stream",
          "name": "stdout",
          "text": [
            "[[1 2]\n",
            " [3 7]\n",
            " [1 2]]\n",
            "[[1 3 1]\n",
            " [2 7 2]]\n"
          ]
        }
      ]
    },
    {
      "cell_type": "code",
      "source": [
        "#matrix operation inverse\n",
        "import numpy as np\n",
        "a=np.array([[1,2],[3,7]]) \n",
        "print(a)\n",
        "A=np.linalg.inv(a)\n",
        "I=a.dot(A)\n",
        "print(I)"
      ],
      "metadata": {
        "colab": {
          "base_uri": "https://localhost:8080/"
        },
        "outputId": "68703ee8-5261-4f95-a586-309f0c1cc407",
        "id": "Wd1NNIZH96SV"
      },
      "execution_count": null,
      "outputs": [
        {
          "output_type": "stream",
          "name": "stdout",
          "text": [
            "[[1 2]\n",
            " [3 7]]\n",
            "[[ 1.0000000e+00  0.0000000e+00]\n",
            " [-4.4408921e-15  1.0000000e+00]]\n"
          ]
        }
      ]
    },
    {
      "cell_type": "code",
      "source": [
        "#matrix operation trace\n",
        "import numpy as np\n",
        "a=np.array([[1,2,4],[3,7,7],[1,3,5]]) \n",
        "print(a)\n",
        "tr=np.trace(a)\n",
        "print(tr)"
      ],
      "metadata": {
        "colab": {
          "base_uri": "https://localhost:8080/"
        },
        "id": "_hy8Flt7W44R",
        "outputId": "322c61a3-69a0-417b-f88a-6fed72e8cca8"
      },
      "execution_count": null,
      "outputs": [
        {
          "output_type": "stream",
          "name": "stdout",
          "text": [
            "[[1 2 4]\n",
            " [3 7 7]\n",
            " [1 3 5]]\n",
            "13\n"
          ]
        }
      ]
    },
    {
      "cell_type": "code",
      "source": [
        "#matrix operation determinant\n",
        "import numpy as np\n",
        "a=np.array([[1,2,5],[3,7,7],[2,4,6]]) \n",
        "print(a)\n",
        "A=np.linalg.det(a)\n",
        "print(A)"
      ],
      "metadata": {
        "colab": {
          "base_uri": "https://localhost:8080/"
        },
        "id": "3WFxUD6iYNdK",
        "outputId": "1b3ba112-3d73-48fe-f301-1865d34eff8e"
      },
      "execution_count": null,
      "outputs": [
        {
          "output_type": "stream",
          "name": "stdout",
          "text": [
            "[[1 2 5]\n",
            " [3 7 7]\n",
            " [2 4 6]]\n",
            "-3.9999999999999973\n"
          ]
        }
      ]
    },
    {
      "cell_type": "code",
      "source": [
        "#matrix operation rank\n",
        "import numpy as np\n",
        "a=np.array([[1,2]]) \n",
        "a1=np.array([[1,2,5],[3,7,7],[2,4,6]]) \n",
        "print(a)\n",
        "A=np.linalg.matrix_rank(a)\n",
        "print(A)\n",
        "print(a1)\n",
        "A1=np.linalg.matrix_rank(a1)\n",
        "print(A1)"
      ],
      "metadata": {
        "colab": {
          "base_uri": "https://localhost:8080/"
        },
        "id": "92hZsbgdbozw",
        "outputId": "74282b8e-0ce0-40ab-e8b4-9b2ae3a82ddb"
      },
      "execution_count": null,
      "outputs": [
        {
          "output_type": "stream",
          "name": "stdout",
          "text": [
            "[[1 2]]\n",
            "1\n",
            "[[1 2 5]\n",
            " [3 7 7]\n",
            " [2 4 6]]\n",
            "3\n"
          ]
        }
      ]
    },
    {
      "cell_type": "code",
      "source": [
        "#SciPy Sparse Matrix\n",
        "import numpy as np\n",
        "from scipy.sparse import csr_matrix\n",
        "A=np.array([[1,0,0,1,0,0],[0,0,2,0,0,1],[0,0,0,2,0,0]])\n",
        "print(A)\n",
        "S=csr_matrix(A)\n",
        "print(S)\n",
        "B=S.todense()\n",
        "print(B)"
      ],
      "metadata": {
        "colab": {
          "base_uri": "https://localhost:8080/"
        },
        "id": "2MoSol6mivUB",
        "outputId": "ec1aa309-9728-441a-b000-ab0d2b77857b"
      },
      "execution_count": null,
      "outputs": [
        {
          "output_type": "stream",
          "name": "stdout",
          "text": [
            "[[1 0 0 1 0 0]\n",
            " [0 0 2 0 0 1]\n",
            " [0 0 0 2 0 0]]\n",
            "  (0, 0)\t1\n",
            "  (0, 3)\t1\n",
            "  (1, 2)\t2\n",
            "  (1, 5)\t1\n",
            "  (2, 3)\t2\n",
            "[[1 0 0 1 0 0]\n",
            " [0 0 2 0 0 1]\n",
            " [0 0 0 2 0 0]]\n"
          ]
        }
      ]
    },
    {
      "cell_type": "code",
      "source": [
        "import numpy as np\n",
        "A=np.array([[1,0,0,1,0,0],[0,0,2,0,0,1],[0,0,0,2,0,0]])\n",
        "T=np.array([[[1,0,0,1,0,0],[0,0,2,0,0,1],[0,0,0,2,0,0]]])\n",
        "print(T)\n",
        "print(T.shape)\n",
        "print(A.shape)"
      ],
      "metadata": {
        "colab": {
          "base_uri": "https://localhost:8080/"
        },
        "id": "knYaWwj1nig-",
        "outputId": "5638eda4-e88f-489a-f4dc-edc52597c453"
      },
      "execution_count": null,
      "outputs": [
        {
          "output_type": "stream",
          "name": "stdout",
          "text": [
            "[[[1 0 0 1 0 0]\n",
            "  [0 0 2 0 0 1]\n",
            "  [0 0 0 2 0 0]]]\n",
            "(1, 3, 6)\n",
            "(3, 6)\n"
          ]
        }
      ]
    },
    {
      "cell_type": "code",
      "source": [
        "#Tensor Arithmetic Addition/Multiplication\n",
        "import numpy as np\n",
        "T1=np.array([[[1,4,7,1,0,9],[0,10,2,0,40,1],[20,0,50,2,0,3]]])\n",
        "T2=np.array([[[11,10,20,1,5,8],[0,9,2,0,0,1],[0,3,6,2,10,0]]])\n",
        "T_add=T1+T2\n",
        "T_mul=T1*T2\n",
        "print(T_add)\n",
        "print(T_mul)"
      ],
      "metadata": {
        "colab": {
          "base_uri": "https://localhost:8080/"
        },
        "id": "DT8SXSYbozK3",
        "outputId": "9f6e70f7-0348-49f1-f8f0-37d57a892afc"
      },
      "execution_count": null,
      "outputs": [
        {
          "output_type": "stream",
          "name": "stdout",
          "text": [
            "[[[12 14 27  2  5 17]\n",
            "  [ 0 19  4  0 40  2]\n",
            "  [20  3 56  4 10  3]]]\n",
            "[[[ 11  40 140   1   0  72]\n",
            "  [  0  90   4   0   0   1]\n",
            "  [  0   0 300   4   0   0]]]\n"
          ]
        }
      ]
    },
    {
      "cell_type": "code",
      "source": [
        "#Tensor product\n",
        "import numpy as np\n",
        "T1=np.array([[[1,4,7],[0,10,2]]])\n",
        "T2=np.array([[[11,10,20],[0,9,2]]])\n",
        "T_p=np.tensordot(T1,T2, axes=0)\n",
        "print(T_p)"
      ],
      "metadata": {
        "colab": {
          "base_uri": "https://localhost:8080/"
        },
        "id": "iG-yCmXqsB3U",
        "outputId": "b3894bbf-4cd3-4cb3-ee3f-0629067dcd92"
      },
      "execution_count": null,
      "outputs": [
        {
          "output_type": "stream",
          "name": "stdout",
          "text": [
            "[[[[[[ 11  10  20]\n",
            "     [  0   9   2]]]\n",
            "\n",
            "\n",
            "   [[[ 44  40  80]\n",
            "     [  0  36   8]]]\n",
            "\n",
            "\n",
            "   [[[ 77  70 140]\n",
            "     [  0  63  14]]]]\n",
            "\n",
            "\n",
            "\n",
            "  [[[[  0   0   0]\n",
            "     [  0   0   0]]]\n",
            "\n",
            "\n",
            "   [[[110 100 200]\n",
            "     [  0  90  20]]]\n",
            "\n",
            "\n",
            "   [[[ 22  20  40]\n",
            "     [  0  18   4]]]]]]\n"
          ]
        }
      ]
    },
    {
      "cell_type": "code",
      "source": [
        "#Matrix Factorization LU Decomposition\n",
        "from scipy.linalg import lu\n",
        "a=np.array([[1,2,5],[3,7,7],[2,4,6]]) \n",
        "print(a)\n",
        "P,L,U=lu(a)\n",
        "print(P)\n",
        "print(L)\n",
        "print(U)\n",
        "B= P.dot(L).dot(U)\n",
        "print(B)"
      ],
      "metadata": {
        "colab": {
          "base_uri": "https://localhost:8080/"
        },
        "id": "VijAXLOXwYQc",
        "outputId": "730d1181-4470-45e8-cb6a-770e2fde46d3"
      },
      "execution_count": null,
      "outputs": [
        {
          "output_type": "stream",
          "name": "stdout",
          "text": [
            "[[1 2 5]\n",
            " [3 7 7]\n",
            " [2 4 6]]\n",
            "[[0. 0. 1.]\n",
            " [1. 0. 0.]\n",
            " [0. 1. 0.]]\n",
            "[[1.         0.         0.        ]\n",
            " [0.66666667 1.         0.        ]\n",
            " [0.33333333 0.5        1.        ]]\n",
            "[[ 3.          7.          7.        ]\n",
            " [ 0.         -0.66666667  1.33333333]\n",
            " [ 0.          0.          2.        ]]\n",
            "[[1. 2. 5.]\n",
            " [3. 7. 7.]\n",
            " [2. 4. 6.]]\n"
          ]
        }
      ]
    },
    {
      "cell_type": "code",
      "source": [
        "#Matrix Factorization QR Decomposition\n",
        "a=np.array([[1,2,5],[3,7,7],[2,4,6]]) \n",
        "print(a)\n",
        "Q,R=np.linalg.qr(a,'complete')\n",
        "print(Q)\n",
        "print(R)\n",
        "B= Q.dot(R)\n",
        "print(B)"
      ],
      "metadata": {
        "colab": {
          "base_uri": "https://localhost:8080/"
        },
        "id": "PdfNLM93zMJm",
        "outputId": "1069e776-fbfa-4fa3-bc5d-2c44f01c4537"
      },
      "execution_count": null,
      "outputs": [
        {
          "output_type": "stream",
          "name": "stdout",
          "text": [
            "[[1 2 5]\n",
            " [3 7 7]\n",
            " [2 4 6]]\n",
            "[[-2.67261242e-01  3.58568583e-01 -8.94427191e-01]\n",
            " [-8.01783726e-01 -5.97614305e-01  1.11022302e-16]\n",
            " [-5.34522484e-01  7.17137166e-01  4.47213595e-01]]\n",
            "[[ -3.74165739  -8.2850985  -10.15592719]\n",
            " [  0.          -0.5976143    1.91236577]\n",
            " [  0.           0.          -1.78885438]]\n",
            "[[1. 2. 5.]\n",
            " [3. 7. 7.]\n",
            " [2. 4. 6.]]\n"
          ]
        }
      ]
    },
    {
      "cell_type": "code",
      "source": [
        "#Matrix Factorization EginDecomposition\n",
        "import numpy as np\n",
        "A=np.array([[1,2,3],[4,5,6],[7,8,9]])\n",
        "print(A)\n",
        "eign_values,eign_vector=np.linalg.eig(A)\n",
        "print(eign_values)\n",
        "print(eign_vector)"
      ],
      "metadata": {
        "colab": {
          "base_uri": "https://localhost:8080/"
        },
        "id": "LDNCCrwcKdsp",
        "outputId": "13dd1c44-92ed-4ec6-ae63-b468b2c0c886"
      },
      "execution_count": 3,
      "outputs": [
        {
          "output_type": "stream",
          "name": "stdout",
          "text": [
            "[[1 2 3]\n",
            " [4 5 6]\n",
            " [7 8 9]]\n",
            "[ 1.61168440e+01 -1.11684397e+00 -1.30367773e-15]\n",
            "[[-0.23197069 -0.78583024  0.40824829]\n",
            " [-0.52532209 -0.08675134 -0.81649658]\n",
            " [-0.8186735   0.61232756  0.40824829]]\n"
          ]
        }
      ]
    },
    {
      "cell_type": "code",
      "source": [
        "#Confirm an Eigenvector and Eigenvalue\n",
        "B=A.dot(eign_vector[:,0])\n",
        "print(B)\n",
        "C= eign_vector[:,0]*eign_values[0]\n",
        "print(C)\n",
        "Q=eign_vector\n",
        "R=np.linalg.inv(Q)\n",
        "L=np.diag(eign_values)\n",
        "B=Q.dot(L).dot(R)\n",
        "print(B)"
      ],
      "metadata": {
        "id": "FU-jwgZdaUXJ",
        "colab": {
          "base_uri": "https://localhost:8080/"
        },
        "outputId": "cbaa3c5c-2a96-4439-ce70-2eefa77eb9a8"
      },
      "execution_count": 6,
      "outputs": [
        {
          "output_type": "stream",
          "name": "stdout",
          "text": [
            "[ -3.73863537  -8.46653421 -13.19443305]\n",
            "[ -3.73863537  -8.46653421 -13.19443305]\n",
            "[[1. 2. 3.]\n",
            " [4. 5. 6.]\n",
            " [7. 8. 9.]]\n"
          ]
        }
      ]
    }
  ]
}